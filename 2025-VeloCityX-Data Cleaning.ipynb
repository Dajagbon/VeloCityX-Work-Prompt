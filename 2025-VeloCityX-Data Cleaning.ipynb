{
 "cells": [
  {
   "cell_type": "code",
   "execution_count": null,
   "id": "72540844-8ce4-481b-88d5-db3cf75f2277",
   "metadata": {},
   "outputs": [],
   "source": [
    "import pandas as pd\n",
    "\n",
    "# Load the data\n",
    "df = pd.read_csv('C:/Users/danie/Downloads/2025-VeloCityX-Expanded-Fan-Engagement-Data.csv')\n",
    "\n",
    "# Initial exploration\n",
    "print(\"Initial DataFrame:\")\n",
    "print(df.head())\n",
    "print(df.info())\n",
    "print(df.describe())\n",
    "\n",
    "# Store the initial state of the DataFrame\n",
    "initial_shape = df.shape\n",
    "initial_missing_values = df.isnull().sum()\n",
    "\n",
    "# Remove duplicates\n",
    "df.drop_duplicates(inplace=True)\n",
    "\n",
    "# Handle missing values\n",
    "df.fillna(df.mean(numeric_only=True), inplace=True)\n",
    "\n",
    "# Fix structural errors (example: correcting typos in a specific column)\n",
    "# df['column_name'].replace({'typo1': 'correct1', 'typo2': 'correct2'}, inplace=True)\n",
    "\n",
    "# Normalize or standardize data if necessary\n",
    "# Example: Standardizing numerical columns\n",
    "# from sklearn.preprocessing import StandardScaler\n",
    "# scaler = StandardScaler()\n",
    "# df[['numerical_column1', 'numerical_column2']] = scaler.fit_transform(df[['numerical_column1', 'numerical_column2']])\n",
    "\n",
    "# Store the final state of the DataFrame\n",
    "final_shape = df.shape\n",
    "final_missing_values = df.isnull().sum()\n",
    "\n",
    "# Compare the initial and final states\n",
    "print(\"\\nChanges in the DataFrame:\")\n",
    "print(f\"Initial shape: {initial_shape}\")\n",
    "print(f\"Final shape: {final_shape}\")\n",
    "print(f\"Number of duplicates removed: {initial_shape[0] - final_shape[0]}\")\n",
    "\n",
    "print(\"\\nInitial missing values:\")\n",
    "print(initial_missing_values)\n",
    "print(\"\\nFinal missing values:\")\n",
    "print(final_missing_values)\n",
    "print(\"\\nNumber of missing values filled:\")\n",
    "print(initial_missing_values - final_missing_values)\n",
    "\n",
    "# Save the cleaned dataset to a new CSV file\n",
    "df.to_csv('C:/Users/danie/Downloads/2025-VeloCityX-Expanded-Fan-Engagement-Data-cleaned.csv', index=False)"
   ]
  }
 ],
 "metadata": {
  "kernelspec": {
   "display_name": "Python 3 (ipykernel)",
   "language": "python",
   "name": "python3"
  },
  "language_info": {
   "codemirror_mode": {
    "name": "ipython",
    "version": 3
   },
   "file_extension": ".py",
   "mimetype": "text/x-python",
   "name": "python",
   "nbconvert_exporter": "python",
   "pygments_lexer": "ipython3",
   "version": "3.11.5"
  }
 },
 "nbformat": 4,
 "nbformat_minor": 5
}
